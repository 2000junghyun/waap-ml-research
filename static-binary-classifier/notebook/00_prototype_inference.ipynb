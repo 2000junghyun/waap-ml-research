{
 "cells": [
  {
   "cell_type": "markdown",
   "id": "e0ee25ee",
   "metadata": {},
   "source": [
    "## Inference with Fresh Data"
   ]
  },
  {
   "cell_type": "markdown",
   "id": "a4da9843",
   "metadata": {},
   "source": [
    "### Outline\n",
    "- 학습/튜닝에 사용하지 않은 완전히 새로운 데이터(test_data.csv)에서 평가\n",
    "- 데이터 분할도 랜덤하게 충분히 혼합된 상태에서 진행"
   ]
  },
  {
   "cell_type": "code",
   "execution_count": 1,
   "id": "e470dea4",
   "metadata": {},
   "outputs": [],
   "source": [
    "import pandas as pd\n",
    "\n",
    "# 테스트 데이터 불러오기\n",
    "test_df = pd.read_csv('data/test_data.csv')"
   ]
  },
  {
   "cell_type": "code",
   "execution_count": 2,
   "id": "ee345f48",
   "metadata": {},
   "outputs": [],
   "source": [
    "import numpy as np\n",
    "\n",
    "# 컬럼명 공백 제거\n",
    "test_df.columns = test_df.columns.str.strip()\n",
    "\n",
    "# inf, -inf → NaN 변환\n",
    "test_df.replace([np.inf, -np.inf], np.nan, inplace=True)\n",
    "\n",
    "# NaN → 0 대체\n",
    "test_df.fillna(0, inplace=True)"
   ]
  },
  {
   "cell_type": "code",
   "execution_count": 3,
   "id": "8c3b9c77",
   "metadata": {},
   "outputs": [
    {
     "data": {
      "text/plain": [
       "Label_binary\n",
       "0    454434\n",
       "1    111715\n",
       "Name: count, dtype: int64"
      ]
     },
     "execution_count": 3,
     "metadata": {},
     "output_type": "execute_result"
    }
   ],
   "source": [
    "test_df['Label_binary'] = test_df['Label'].apply(lambda x: 0 if x == 'BENIGN' else 1)\n",
    "test_df['Label_binary'].value_counts()"
   ]
  },
  {
   "cell_type": "code",
   "execution_count": 4,
   "id": "b67c8fe4",
   "metadata": {},
   "outputs": [],
   "source": [
    "X_test = test_df.drop(columns=['Label', 'Label_binary'])\n",
    "y_test = test_df['Label_binary']"
   ]
  },
  {
   "cell_type": "code",
   "execution_count": 5,
   "id": "f0596dbf",
   "metadata": {},
   "outputs": [],
   "source": [
    "import joblib\n",
    "\n",
    "# 학습된 모델 불러오기\n",
    "clf = joblib.load('prototype_RandomForest.pkl')\n",
    "\n",
    "# 테스트\n",
    "y_pred = clf.predict(X_test)"
   ]
  },
  {
   "cell_type": "code",
   "execution_count": 6,
   "id": "bed56140",
   "metadata": {},
   "outputs": [
    {
     "name": "stdout",
     "output_type": "stream",
     "text": [
      "Accuracy:  0.9989\n",
      "Precision: 0.9972\n",
      "Recall:    0.9970\n",
      "F1-score:  0.9971\n",
      "\n",
      "Confusion Matrix:\n",
      " [[454123    311]\n",
      " [   331 111384]]\n",
      "\n",
      "Classification Report:\n",
      "\n",
      "              precision    recall  f1-score   support\n",
      "\n",
      "           0     0.9993    0.9993    0.9993    454434\n",
      "           1     0.9972    0.9970    0.9971    111715\n",
      "\n",
      "    accuracy                         0.9989    566149\n",
      "   macro avg     0.9982    0.9982    0.9982    566149\n",
      "weighted avg     0.9989    0.9989    0.9989    566149\n",
      "\n"
     ]
    }
   ],
   "source": [
    "from sklearn.metrics import accuracy_score, precision_score, recall_score, f1_score, confusion_matrix, classification_report\n",
    "\n",
    "# 평가 지표 계산\n",
    "acc = accuracy_score(y_test, y_pred)\n",
    "prec = precision_score(y_test, y_pred)\n",
    "rec = recall_score(y_test, y_pred)\n",
    "f1 = f1_score(y_test, y_pred)\n",
    "cm = confusion_matrix(y_test, y_pred)\n",
    "\n",
    "print(f\"Accuracy:  {acc:.4f}\")\n",
    "print(f\"Precision: {prec:.4f}\")\n",
    "print(f\"Recall:    {rec:.4f}\")\n",
    "print(f\"F1-score:  {f1:.4f}\")\n",
    "print(\"\\nConfusion Matrix:\\n\", cm)\n",
    "print(\"\\nClassification Report:\\n\")\n",
    "print(classification_report(y_test, y_pred, digits=4))"
   ]
  },
  {
   "cell_type": "markdown",
   "id": "1c9c8540",
   "metadata": {},
   "source": [
    "### Result\n",
    "- Prototype으로도 충분히 훌륭한 결과 도출\n",
    "- 충분한 양의 데이터 때문에 좋은 테스트 결과가 나온 것으로 추측됨"
   ]
  }
 ],
 "metadata": {
  "kernelspec": {
   "display_name": "venv",
   "language": "python",
   "name": "python3"
  },
  "language_info": {
   "codemirror_mode": {
    "name": "ipython",
    "version": 3
   },
   "file_extension": ".py",
   "mimetype": "text/x-python",
   "name": "python",
   "nbconvert_exporter": "python",
   "pygments_lexer": "ipython3",
   "version": "3.9.0"
  }
 },
 "nbformat": 4,
 "nbformat_minor": 5
}
